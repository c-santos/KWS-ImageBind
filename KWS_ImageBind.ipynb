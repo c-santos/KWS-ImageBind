{
  "nbformat": 4,
  "nbformat_minor": 0,
  "metadata": {
    "colab": {
      "provenance": [],
      "gpuType": "T4",
      "private_outputs": true
    },
    "kernelspec": {
      "name": "python3",
      "display_name": "Python 3"
    },
    "language_info": {
      "name": "python"
    },
    "accelerator": "GPU"
  },
  "cells": [
    {
      "cell_type": "markdown",
      "source": [
        "## Zero-shot keyword spotting (KWS) using ImageBind on the Speech Commands dataset\n",
        "---\n",
        "\n",
        "Juan Carlo M. Santos\n",
        "\n",
        "2018-00740\n",
        "\n",
        "CoE 197Z Deep Learning\n",
        "\n",
        "Project 2\n",
        "\n",
        "---\n",
        "\n",
        "\n",
        "In this project, we enable keyword spotting on the Speech Commands dataset using Meta's ImageBind model.\n",
        "\n",
        "ImageBind is a model that enables multimodal capabalities (image, audio, text, depth, thermal, and IMU) by training solely on image-paired data to bind the modalities and learn a joint embedding space across the modalities.\n",
        "\n",
        "By not training the model on the Speech Commands dataset, we are able to spot keywords in a zero-shot manner.\n",
        "\n",
        "KWS accuracy with ImageBind was found to be 59.4% with `n_datapoints=64`. Accuracy was computed with the 'multiclass' accuracy function from the `torchmetrics` library.\n",
        "\n",
        "Comparison with other KWS SOTA models is found at the end of the notebook.\n",
        "\n",
        "References:\n",
        "1. [roatienza/Deep-Learning-Experiments](https://github.com/roatienza/Deep-Learning-Experiments)\n",
        "2. [facebookresearch/ImageBind](https://github.com/facebookresearch/ImageBind)"
      ],
      "metadata": {
        "id": "vTWD_LhEQCax"
      }
    },
    {
      "cell_type": "markdown",
      "source": [
        "### Clone KWS-ImageBind Repo\n",
        "The  [helper repo](https://www.github.com/c-santos/KWS-ImageBind) contains needed files for ImageBind.\n",
        "- `models` folder\n",
        "- `data.py`\n",
        "- `bpe`\n",
        "\n",
        "NOTE: Comparison with SOTA models is at the end of the notebook."
      ],
      "metadata": {
        "id": "XETlT6Cudfnu"
      }
    },
    {
      "cell_type": "code",
      "source": [
        "# Prepare Colab filesystem for cloning.\n",
        "import os\n",
        "\n",
        "print('Current directory:', os.getcwd())\n",
        "\n",
        "if os.getcwd() == '/content/KWS-ImageBind':\n",
        "  print('Moving out of repo directory')\n",
        "  %cd ..\n",
        "\n",
        "print('Directories: ', os.listdir())\n",
        "\n",
        "if 'KWS-ImageBind' in os.listdir():\n",
        "  print('Removing repo...')\n",
        "  !rm -r KWS-ImageBind\n",
        "  print('Repo deleted!')\n"
      ],
      "metadata": {
        "id": "eO34FGWGN0F7"
      },
      "execution_count": null,
      "outputs": []
    },
    {
      "cell_type": "code",
      "source": [
        "# Clone the helper repo.\n",
        "!git clone -l -s https://github.com/c-santos/KWS-ImageBind.git KWS-ImageBind\n",
        "%cd KWS-ImageBind\n",
        "!ls"
      ],
      "metadata": {
        "id": "T4SzbC88aRci"
      },
      "execution_count": null,
      "outputs": []
    },
    {
      "cell_type": "markdown",
      "source": [
        "### Install and import dependencies"
      ],
      "metadata": {
        "id": "qfGEFmSxdt1y"
      }
    },
    {
      "cell_type": "code",
      "source": [
        "%pip install pytorch_lightning\n",
        "%pip install torchmetrics\n",
        "\n",
        "# ImageBind dependencies\n",
        "%pip install pytorchvideo\n",
        "%pip install ftfy\n",
        "%pip install timm\n",
        "%pip install decord\n",
        "%pip install einops\n",
        "%pip install regex\n",
        "%pip install fvcore\n",
        "%pip install iopath\n",
        "%pip install numpy\n",
        "%pip install types-regex\n",
        "%pip install mayavi\n",
        "%pip install cartopy\n",
        "\n",
        "# Dependencies for audio recording\n",
        "!pip install ipywebrtc\n",
        "!jupyter nbextension enable --py widgetsnbextension"
      ],
      "metadata": {
        "id": "FCdV0jFsNW0h"
      },
      "execution_count": null,
      "outputs": []
    },
    {
      "cell_type": "code",
      "source": [
        "import torch\n",
        "import torchaudio, torchvision\n",
        "\n",
        "import matplotlib.pyplot as plt\n",
        "import librosa\n",
        "import argparse\n",
        "import numpy as np\n",
        "import einops\n",
        "\n",
        "from pytorch_lightning import LightningModule, Trainer, LightningDataModule, Callback\n",
        "\n",
        "import torchmetrics\n",
        "from torchvision.transforms import ToTensor\n",
        "\n",
        "from torchaudio.datasets import SPEECHCOMMANDS\n",
        "\n",
        "import IPython.display as ipd\n",
        "from IPython.display import Markdown as md"
      ],
      "metadata": {
        "id": "18iynPlJKJHm"
      },
      "execution_count": null,
      "outputs": []
    },
    {
      "cell_type": "code",
      "source": [
        "print(torch.cuda.is_available())\n",
        "device = \"cuda:0\" if torch.cuda.is_available() else \"cpu\"\n",
        "print(device)"
      ],
      "metadata": {
        "id": "gqe2TA1dNjoi"
      },
      "execution_count": null,
      "outputs": []
    },
    {
      "cell_type": "markdown",
      "source": [
        "### Custom Silence and Unknown Dataset\n",
        "\n",
        "We create a custom `silence` dataset. The dataset randomly samples background audio supplied in the KWS dataset. These files are under the `_background_noise_` folder.\n",
        "\n",
        "We also create `unknown` dataset uses random audio samples from the train set but labelled as `unknown`.\n",
        "\n",
        "The creation of these 2 datasets is described in the [KWS paper](https://arxiv.org/pdf/1804.03209.pdf) and implemented below.\n",
        "\n",
        "We limit the number of samples to about the size of train dataset divided by 35 (the number of distinct words in the KWS dataset)."
      ],
      "metadata": {
        "id": "5xNBPPZlMuAR"
      }
    },
    {
      "cell_type": "code",
      "source": [
        "# borrowed from https://github.com/roatienza/Deep-Learning-Experiments/blob/master/versions/2022/supervised/python/kws_demo.ipynb\n",
        "class SilenceDataset(SPEECHCOMMANDS):\n",
        "    def __init__(self, root):\n",
        "        super(SilenceDataset, self).__init__(root, subset='training')\n",
        "        self.len = len(self._walker) // 35\n",
        "        path = os.path.join(self._path, torchaudio.datasets.speechcommands.EXCEPT_FOLDER)\n",
        "        self.paths = [os.path.join(path, p) for p in os.listdir(path) if p.endswith('.wav')]\n",
        "\n",
        "    def __getitem__(self, index):\n",
        "        index = np.random.randint(0, len(self.paths))\n",
        "        filepath = self.paths[index]\n",
        "        waveform, sample_rate = torchaudio.load(filepath)\n",
        "        return waveform, sample_rate, \"silence\", 0, 0\n",
        "\n",
        "    def __len__(self):\n",
        "        return self.len\n",
        "\n",
        "class UnknownDataset(SPEECHCOMMANDS):\n",
        "    def __init__(self, root):\n",
        "        super(UnknownDataset, self).__init__(root, subset='training')\n",
        "        self.len = len(self._walker) // 35\n",
        "\n",
        "    def __getitem__(self, index):\n",
        "        index = np.random.randint(0, len(self._walker))\n",
        "        fileid = self._walker[index]\n",
        "        waveform, sample_rate, _, speaker_id, utterance_number = torchaudio.datasets.speechcommands.load_speechcommands_item(fileid, self._path)\n",
        "        return waveform, sample_rate, \"unknown\", speaker_id, utterance_number\n",
        "\n",
        "    def __len__(self):\n",
        "        return self.len"
      ],
      "metadata": {
        "id": "fDKQkP50LJ1K"
      },
      "execution_count": null,
      "outputs": []
    },
    {
      "cell_type": "markdown",
      "source": [
        "### The PyTorch Lightning Data Module for KWS\n",
        "\n",
        "`KWSDataModule` cleanly separates the data handling from the model. The data module handles the datasets and dataloaders.\n",
        "\n",
        "We use `torchaudio` `SPEECHCOMMANDS` dataset to load the training, testing and validation sets."
      ],
      "metadata": {
        "id": "IpnIOqmmNtFT"
      }
    },
    {
      "cell_type": "code",
      "source": [
        "# borrowed from https://github.com/roatienza/Deep-Learning-Experiments/blob/master/versions/2022/supervised/python/kws_demo.ipynb\n",
        "class KWSDataModule(LightningDataModule):\n",
        "    def __init__(self, path, batch_size=128, num_workers=0, n_fft=512,\n",
        "                 n_mels=128, win_length=None, hop_length=256, class_dict={},\n",
        "                 **kwargs):\n",
        "        super().__init__(**kwargs)\n",
        "        self.path = path\n",
        "        self.batch_size = batch_size\n",
        "        self.num_workers = num_workers\n",
        "        self.n_fft = n_fft\n",
        "        self.n_mels = n_mels\n",
        "        self.win_length = win_length\n",
        "        self.hop_length = hop_length\n",
        "        self.class_dict = class_dict\n",
        "\n",
        "    def prepare_data(self):\n",
        "        # self.train_dataset = torchaudio.datasets.SPEECHCOMMANDS(self.path,\n",
        "        #                                                         download=True,\n",
        "        #                                                         subset='training')\n",
        "\n",
        "\n",
        "        # self.val_dataset = torchaudio.datasets.SPEECHCOMMANDS(self.path,\n",
        "        #                                                       download=True,\n",
        "        #                                                       subset='validation')\n",
        "\n",
        "        self.test_dataset = torchaudio.datasets.SPEECHCOMMANDS(self.path,\n",
        "                                                               download=True,\n",
        "                                                               subset='testing')\n",
        "\n",
        "        silence_dataset = SilenceDataset(self.path)\n",
        "        unknown_dataset = UnknownDataset(self.path)\n",
        "        self.test_dataset = torch.utils.data.ConcatDataset([self.test_dataset, silence_dataset, unknown_dataset])\n",
        "\n",
        "        _, sample_rate, _, _, _ = self.test_dataset[0]\n",
        "        self.sample_rate = sample_rate\n",
        "        self.transform = torchaudio.transforms.MelSpectrogram(sample_rate=sample_rate,\n",
        "                                                              n_fft=self.n_fft,\n",
        "                                                              win_length=self.win_length,\n",
        "                                                              hop_length=self.hop_length,\n",
        "                                                              n_mels=self.n_mels,\n",
        "                                                              power=2.0)\n",
        "\n",
        "    def setup(self, stage=None):\n",
        "        self.prepare_data()\n",
        "\n",
        "    def train_dataloader(self):\n",
        "        return torch.utils.data.DataLoader(\n",
        "            self.train_dataset,\n",
        "            batch_size=self.batch_size,\n",
        "            num_workers=self.num_workers,\n",
        "            shuffle=True,\n",
        "            pin_memory=True,\n",
        "            collate_fn=self.collate_fn\n",
        "        )\n",
        "\n",
        "    def val_dataloader(self):\n",
        "        return torch.utils.data.DataLoader(\n",
        "            self.val_dataset,\n",
        "            batch_size=self.batch_size,\n",
        "            num_workers=self.num_workers,\n",
        "            shuffle=True,\n",
        "            pin_memory=True,\n",
        "            collate_fn=self.collate_fn\n",
        "        )\n",
        "\n",
        "    def test_dataloader(self):\n",
        "        return torch.utils.data.DataLoader(\n",
        "            self.test_dataset,\n",
        "            batch_size=self.batch_size,\n",
        "            num_workers=self.num_workers,\n",
        "            shuffle=True,\n",
        "            pin_memory=True,\n",
        "            collate_fn=self.collate_fn\n",
        "        )\n",
        "\n",
        "    def collate_fn(self, batch):\n",
        "        mels = []\n",
        "        labels = []\n",
        "        wavs = []\n",
        "        for sample in batch:\n",
        "            waveform, sample_rate, label, speaker_id, utterance_number = sample\n",
        "            # ensure that all waveforms are 2sec in length; if not pad with zeros\n",
        "            if waveform.shape[-1] < sample_rate*2:\n",
        "                waveform = torch.cat([waveform, torch.zeros((1, sample_rate*2 - waveform.shape[-1]))], dim=-1)\n",
        "            elif waveform.shape[-1] > sample_rate*2:\n",
        "                waveform = waveform[:,:sample_rate*2]\n",
        "\n",
        "            # mel from power to db\n",
        "            mels.append(ToTensor()(librosa.power_to_db(self.transform(waveform).squeeze().numpy(), ref=np.max)))\n",
        "            labels.append(torch.tensor(self.class_dict[label]))\n",
        "            wavs.append(waveform)\n",
        "\n",
        "        mels = torch.stack(mels, dim=0)\n",
        "        labels = torch.stack(labels)\n",
        "        wavs = torch.stack(wavs)\n",
        "\n",
        "        return mels, labels, wavs"
      ],
      "metadata": {
        "id": "HAsO_JBYNvpX"
      },
      "execution_count": null,
      "outputs": []
    },
    {
      "cell_type": "markdown",
      "source": [
        "### Program Arguments\n",
        "\n",
        "The default configuration is shown below.\n"
      ],
      "metadata": {
        "id": "bIogZCZvOiHE"
      }
    },
    {
      "cell_type": "code",
      "source": [
        "# borrowed from https://github.com/roatienza/Deep-Learning-Experiments/blob/master/versions/2022/supervised/python/kws_demo.ipynb\n",
        "def get_args():\n",
        "    parser = argparse.ArgumentParser()\n",
        "    # model training hyperparameters\n",
        "    parser.add_argument('--batch-size', type=int, default=64, metavar='N',\n",
        "                        help='input batch size for training (default: 64)')\n",
        "    parser.add_argument('--max-epochs', type=int, default=30, metavar='N',\n",
        "                        help='number of epochs to train (default: 30)')\n",
        "    parser.add_argument('--lr', type=float, default=0.001, metavar='LR',\n",
        "                        help='learning rate (default: 0.001)')\n",
        "\n",
        "    # where dataset will be stored\n",
        "    parser.add_argument(\"--path\", type=str, default=\"data/speech_commands/\")\n",
        "\n",
        "    # 35 keywords + silence + unknown\n",
        "    parser.add_argument(\"--num-classes\", type=int, default=37)\n",
        "\n",
        "    # mel spectrogram parameters\n",
        "    parser.add_argument(\"--n-fft\", type=int, default=1024)\n",
        "    parser.add_argument(\"--n-mels\", type=int, default=128)\n",
        "    parser.add_argument(\"--win-length\", type=int, default=None)\n",
        "    parser.add_argument(\"--hop-length\", type=int, default=512)\n",
        "\n",
        "    # 16-bit fp model to reduce the size\n",
        "    parser.add_argument(\"--precision\", default=16)\n",
        "    parser.add_argument(\"--accelerator\", default='gpu')\n",
        "    parser.add_argument(\"--devices\", default=1)\n",
        "    parser.add_argument(\"--num-workers\", type=int, default=2)\n",
        "\n",
        "    parser.add_argument(\"--no-wandb\", default=False, action='store_true')\n",
        "\n",
        "    args = parser.parse_args(\"\")\n",
        "    return args"
      ],
      "metadata": {
        "id": "GPSInK02Oiq1"
      },
      "execution_count": null,
      "outputs": []
    },
    {
      "cell_type": "markdown",
      "source": [
        "### Downloading and importing the Speech Commands dataset.\n",
        "\n",
        "CLASSES list is also defined."
      ],
      "metadata": {
        "id": "z7LQ_y4rOynq"
      }
    },
    {
      "cell_type": "code",
      "source": [
        "# borrowed from https://github.com/roatienza/Deep-Learning-Experiments/blob/master/versions/2022/supervised/python/kws_demo.ipynb\n",
        "if __name__ == \"__main__\":\n",
        "\n",
        "    args = get_args()\n",
        "    CLASSES = ['silence', 'unknown', 'backward', 'bed', 'bird', 'cat', 'dog', 'down', 'eight', 'five', 'follow',\n",
        "               'forward', 'four', 'go', 'happy', 'house', 'learn', 'left', 'marvin', 'nine', 'no',\n",
        "               'off', 'on', 'one', 'right', 'seven', 'sheila', 'six', 'stop', 'three',\n",
        "               'tree', 'two', 'up', 'visual', 'wow', 'yes', 'zero']\n",
        "\n",
        "    # Class dictionary\n",
        "    CLASS_TO_IDX = {c: i for i, c in enumerate(CLASSES)}\n",
        "    IDX_TO_CLASS = {i: c for i, c in enumerate(CLASSES)}\n",
        "\n",
        "    # Download Speech Commands dataset with PyTorch Lightning\n",
        "    if not os.path.exists(args.path):\n",
        "        os.makedirs(args.path, exist_ok=True)\n",
        "\n",
        "        datamodule = KWSDataModule(batch_size=args.batch_size, num_workers=args.num_workers,\n",
        "                                  path=args.path, n_fft=args.n_fft, n_mels=args.n_mels,\n",
        "                                  win_length=args.win_length, hop_length=args.hop_length,\n",
        "                                  class_dict=CLASS_TO_IDX)\n",
        "        datamodule.setup()\n",
        "\n",
        ""
      ],
      "metadata": {
        "id": "b5Cel2CQO4LG"
      },
      "execution_count": null,
      "outputs": []
    },
    {
      "cell_type": "markdown",
      "source": [
        "### Initialize ImageBind model\n",
        "\n",
        "- Imports needed modules to use ImageBind\n",
        "- Initializes pretrained ImageBind model\n",
        "- Downloads model checkpoint"
      ],
      "metadata": {
        "id": "RJS2XZJVdTRn"
      }
    },
    {
      "cell_type": "code",
      "source": [
        "import data\n",
        "from models import imagebind_model\n",
        "from models.imagebind_model import ModalityType\n"
      ],
      "metadata": {
        "id": "-QnFuZGTdS_w"
      },
      "execution_count": null,
      "outputs": []
    },
    {
      "cell_type": "code",
      "source": [
        "model = imagebind_model.imagebind_huge(pretrained=True)\n",
        "model.eval()\n",
        "model.to(device)"
      ],
      "metadata": {
        "id": "QmQL4nYnhp3-"
      },
      "execution_count": null,
      "outputs": []
    },
    {
      "cell_type": "markdown",
      "source": [
        "### Infer functions\n",
        "Specific functions are made for random audio file inference, for user-recorded audio, and for statistics collection."
      ],
      "metadata": {
        "id": "h_debPtFxRKE"
      }
    },
    {
      "cell_type": "code",
      "source": [
        "def infer_stats(wav_file=None,\n",
        "          sc_path=args.path,\n",
        "          CLASSES=CLASSES,\n",
        "          device=device,\n",
        "          CLASS_TO_IDX=CLASS_TO_IDX,\n",
        "          IDX_TO_CLASS=IDX_TO_CLASS):\n",
        "\n",
        "  label = CLASSES[2:]\n",
        "\n",
        "  # Get random audio if no wav_file is provided\n",
        "  if wav_file is None:\n",
        "\n",
        "    # list wav files given a folder\n",
        "    label = CLASSES[2:]\n",
        "    label = np.random.choice(label)\n",
        "\n",
        "    path = os.path.join(args.path, \"SpeechCommands/speech_commands_v0.02/\")\n",
        "    path = os.path.join(path, label)\n",
        "    wav_files = [os.path.join(path, f)\n",
        "                for f in os.listdir(path) if f.endswith('.wav')]\n",
        "\n",
        "    # select random wav file\n",
        "    wav_file = np.random.choice(wav_files)\n",
        "\n",
        "\n",
        "  to_infer = [wav_file]\n",
        "\n",
        "  inputs = {\n",
        "    ModalityType.AUDIO: data.load_and_transform_audio_data(to_infer, device),\n",
        "    ModalityType.TEXT: data.load_and_transform_text(CLASSES, device)\n",
        "  }\n",
        "\n",
        "  with torch.no_grad():\n",
        "    embeddings = model(inputs)\n",
        "\n",
        "  prediction = torch.softmax(embeddings[ModalityType.AUDIO] @ embeddings[ModalityType.TEXT].T, dim=-1)\n",
        "\n",
        "  pred_idx = torch.argmax(prediction)\n",
        "  pred = IDX_TO_CLASS[pred_idx.item()]\n",
        "\n",
        "  ground_truth = [1 if i == label else 0 for i in CLASSES]\n",
        "  ground_truth = torch.tensor(ground_truth).to(device)\n",
        "\n",
        "  if type(label) == list:\n",
        "    print(f\"Prediction: {pred_idx.item()}. {pred}\")\n",
        "    ground_truth = None\n",
        "  else:\n",
        "    print(f\"Ground Truth: {CLASS_TO_IDX[label]}. {label}, Prediction: {pred_idx.item()}. {pred}\")\n",
        "\n",
        "  return prediction.squeeze(), ground_truth, wav_file\n",
        "\n",
        ""
      ],
      "metadata": {
        "id": "jixZevH5FYn8"
      },
      "execution_count": null,
      "outputs": []
    },
    {
      "cell_type": "code",
      "source": [
        "def infer_random():\n",
        "  label = CLASSES[2:]\n",
        "  label = np.random.choice(label)\n",
        "\n",
        "  path = os.path.join(args.path, \"SpeechCommands/speech_commands_v0.02/\")\n",
        "  path = os.path.join(path, label)\n",
        "  wav_files = [os.path.join(path, f)\n",
        "              for f in os.listdir(path) if f.endswith('.wav')]\n",
        "\n",
        "  # select random wav file\n",
        "  wav_file = np.random.choice(wav_files)\n",
        "\n",
        "  to_infer = [wav_file]\n",
        "\n",
        "  inputs = {\n",
        "    ModalityType.AUDIO: data.load_and_transform_audio_data(to_infer, device),\n",
        "    ModalityType.TEXT: data.load_and_transform_text(CLASSES, device)\n",
        "  }\n",
        "\n",
        "  with torch.no_grad():\n",
        "    embeddings = model(inputs)\n",
        "\n",
        "  prediction = torch.softmax(embeddings[ModalityType.AUDIO] @ embeddings[ModalityType.TEXT].T, dim=-1)\n",
        "\n",
        "  pred_idx = torch.argmax(prediction)\n",
        "  pred = IDX_TO_CLASS[pred_idx.item()]\n",
        "\n",
        "  ground_truth = [1 if i == label else 0 for i in CLASSES]\n",
        "  ground_truth = torch.tensor(ground_truth).to(device)\n",
        "\n",
        "  pred_string = f\"Ground Truth:\\t\\t{label}\\nPrediction:\\t\\t{pred}\"\n",
        "\n",
        "  return pred_string, wav_file"
      ],
      "metadata": {
        "id": "_lNu2wWz8vv5"
      },
      "execution_count": null,
      "outputs": []
    },
    {
      "cell_type": "code",
      "source": [
        "def infer_recording(audio):\n",
        "\n",
        "  to_infer = [audio]\n",
        "\n",
        "  inputs = {\n",
        "    ModalityType.AUDIO: data.load_and_transform_audio_data(to_infer, device),\n",
        "    ModalityType.TEXT: data.load_and_transform_text(CLASSES, device)\n",
        "  }\n",
        "\n",
        "  with torch.no_grad():\n",
        "    embeddings = model(inputs)\n",
        "\n",
        "  prediction = torch.softmax(embeddings[ModalityType.AUDIO] @ embeddings[ModalityType.TEXT].T, dim=-1)\n",
        "\n",
        "  pred_idx = torch.argmax(prediction)\n",
        "  pred = IDX_TO_CLASS[pred_idx.item()]\n",
        "\n",
        "  pred_string = f\"Prediction:\\t{pred}\"\n",
        "  print(pred_string)\n",
        "\n",
        "  return pred_string"
      ],
      "metadata": {
        "id": "NOv1VwZQ58Yb"
      },
      "execution_count": null,
      "outputs": []
    },
    {
      "cell_type": "markdown",
      "source": [
        "### Main statistics function\n",
        "Uses multiclass accuracy to compute accuracy of ImageBind model in zero-shot KWS of the Speech Commands dataset.\n",
        "\n",
        "Configure `n_batches` and `n_data_points` parameters."
      ],
      "metadata": {
        "id": "ZL0fm_mTxoPt"
      }
    },
    {
      "cell_type": "code",
      "source": [
        "def statistics(n_batches, n_data_points):\n",
        "  # Multiclass Accuracy\n",
        "  metric = torchmetrics.Accuracy(task=\"multiclass\", num_classes=37).to(device)\n",
        "\n",
        "  n_batches = n_batches\n",
        "  for i in range(n_batches):\n",
        "    preds, target, wav_file = infer_stats()\n",
        "    # metric on current batch\n",
        "    acc = metric(preds, target)\n",
        "    print(f\"Accuracy on batch {i}: {acc}\")\n",
        "\n",
        "  # metric on all batches using custom accumulation\n",
        "  acc = metric.compute()\n",
        "  print(f\"Accuracy on all data: {acc}\")\n",
        "\n",
        "  # Reseting internal state such that metric ready for new data\n",
        "  metric.reset()\n",
        "  return acc.item()\n"
      ],
      "metadata": {
        "id": "10-K45mFDZWk"
      },
      "execution_count": null,
      "outputs": []
    },
    {
      "cell_type": "markdown",
      "source": [
        "### Demo using Gradio\n",
        "\n",
        "Run each cell below to show GUI of demo."
      ],
      "metadata": {
        "id": "4llV21ofKC1G"
      }
    },
    {
      "cell_type": "code",
      "source": [
        "!pip install gradio"
      ],
      "metadata": {
        "id": "1ovegCKdvBuY"
      },
      "execution_count": null,
      "outputs": []
    },
    {
      "cell_type": "code",
      "source": [
        "import gradio as gr\n",
        "\n",
        "random_tab = gr.Interface(fn=infer_random,\n",
        "                    inputs = [\n",
        "\n",
        "                    ],\n",
        "                    outputs = [\n",
        "                        'text',\n",
        "                        gr.Audio(type='filepath'),\n",
        "                    ],)\n",
        "\n",
        "record_tab = gr.Interface(fn=infer_recording,\n",
        "                           inputs = [\n",
        "                              gr.Audio(source='microphone', type='filepath'),\n",
        "                           ],\n",
        "                           outputs = [\n",
        "                              'text'\n",
        "                           ],\n",
        "                          )\n",
        "\n",
        "stats_tab = gr.Interface(fn=statistics,\n",
        "                         inputs = [\n",
        "                            gr.Slider(0,100),\n",
        "                         ],\n",
        "                         outputs = [\n",
        "                         'text',\n",
        "                         ],)\n",
        "\n",
        "demo = gr.TabbedInterface([random_tab, record_tab, stats_tab],['Random audio', 'Recorded audio', 'Statistics'])\n",
        "\n",
        "\n",
        "demo.launch()\n"
      ],
      "metadata": {
        "id": "m0bfSPikrJJX"
      },
      "execution_count": null,
      "outputs": []
    },
    {
      "cell_type": "markdown",
      "source": [
        "### Comparison to SOTA models that use Speech Commands dataset\n",
        "\n",
        "\n",
        "| Model Name       | Accuracy | Shot      | Supervision | Link                                                   |\n",
        "|------------------|----------|-----------|-------------|--------------------------------------------------------|\n",
        "| TripetLoss-res15 | 98.37%   | Not       | Supervised  | https://arxiv.org/ftp/arxiv/papers/2101/2101.04792.pdf |\n",
        "| BC-ResNet        | 98.7%    | Not       | Supervised  | https://arxiv.org/pdf/2106.04140v3.pdf                 |\n",
        "| ImageBind (ours) | 59.4%      | Zero-shot | Unsupervised (see notes below)   | https://arxiv.org/pdf/2305.05665.pdf  |\n",
        "\n",
        "<sub>data from [paperswithcode.com](https://paperswithcode.com/sota/keyword-spotting-on-google-speech-commands)</sub>\n",
        "\n",
        "\n",
        "Seen from the table, the large gap with SOTA models is noticeable. However, it is important to note that these models were trained on the Speech Commands dataset, unlike with ImageBind which is performing zero-shot KWS and learns from the joint embedding space (almost self-supervised).\n",
        "\n",
        "\n",
        "\n",
        "\n",
        "Notes from ImageBind Paper:\n",
        "- Foundation of ImageBind is a vision transformer.\n",
        "- \"ImageBind unlocks zero-shot classification for modalities without paired text data.\"\n",
        "- Self-supervised learning is used in pairing audio, depth, thermal, and IMU with images\n",
        "- Modalities are paired with images during training. Cross-modality alignment emerges from the embedding space.\n",
        "- Supervised for image and text pairs (ViT-H from OpenCLIP)\n",
        "- Supervised for audio and video pairs (AudioSet dataset)\n",
        "- ImageBind is able to to do zero-shot audio and text classification from its cross modality capabilities i.e training image-text and image-audio pairs.\n",
        "- For the task of **audio to text retrieval**, ImageBind is **self-supervised**, and ***emergent* zero-shot**\n",
        "- It is self-supervised since the joint embedding space that it generates is a product of the supervised learning done on image-paired data.\n",
        "\n",
        "\n",
        "![64imagebindkws.png](data:image/png;base64,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)"
      ],
      "metadata": {
        "id": "XMuuEj_a6sZD"
      }
    }
  ]
}